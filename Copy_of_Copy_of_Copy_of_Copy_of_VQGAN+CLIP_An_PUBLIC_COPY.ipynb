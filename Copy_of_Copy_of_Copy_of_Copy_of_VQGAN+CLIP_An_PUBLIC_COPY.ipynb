{
  "nbformat": 4,
  "nbformat_minor": 0,
  "metadata": {
    "colab": {
      "name": "Copy of Copy of Copy of Copy of VQGAN+CLIP An PUBLIC COPY.ipynb",
      "private_outputs": true,
      "provenance": [],
      "collapsed_sections": [
        "kaj4CNofqhV-"
      ],
      "machine_shape": "hm",
      "include_colab_link": true
    },
    "kernelspec": {
      "name": "python3",
      "display_name": "Python 3"
    },
    "language_info": {
      "name": "python"
    },
    "accelerator": "GPU"
  },
  "cells": [
    {
      "cell_type": "markdown",
      "metadata": {
        "id": "view-in-github",
        "colab_type": "text"
      },
      "source": [
        "<a href=\"https://colab.research.google.com/github/loviasol/github-slideshow/blob/master/Copy_of_Copy_of_Copy_of_Copy_of_VQGAN%2BCLIP_An_PUBLIC_COPY.ipynb\" target=\"_parent\"><img src=\"https://colab.research.google.com/assets/colab-badge.svg\" alt=\"Open In Colab\"/></a>"
      ]
    },
    {
      "cell_type": "markdown",
      "metadata": {
        "id": "eD4YyZDessWK"
      },
      "source": [
        "# Generate images from text inputs using VQGAN+CLIP (z+quantize method with augmentations).\n",
        "\n",
        "Notebook created Katherine Crowson (https://github.com/crowsonkb, https://twitter.com/RiversHaveWings). The original BigGAN+CLIP method was created by https://twitter.com/advadnoun. Translation \\[to spanish\\] modifications and explanations added by Eleiber#8347, user-friendly UI created by Abulafia#3734, translated \\[from spanish\\] and expanded on by An Graves.\n",
        "\n",
        "For a detailed tutorial \\[in spanish\\] on how to use \\[the original spanish notebook\\], I recommend [visiting this article](https://tuscriaturas.miraheze.org/wiki/Ayuda:Crear_imágenes_con_VQGAN+CLIP), created by Jakeukalane#2767 and Avengium (Ángel)#3715. An English tutorial by \\[??? I cannot find who originally posted this and I don't see creator info on the doc itself\\] can be found [here](https://docs.google.com/document/d/1Lu7XPRKlNhBQjcKr8k8qRzUzbBW7kzxb5Vu72GMRn2E/edit). These tutorials do not include information on features I (An) have added, which I have hopefully provided adequate instructions for below.\n"
      ]
    },
    {
      "cell_type": "code",
      "metadata": {
        "id": "6gCrtOAPs7YA"
      },
      "source": [
        "# @title Licensed under the MIT License\n",
        "\n",
        "# Copyright (c) 2021 Katherine Crowson\n",
        "\n",
        "# Permission is hereby granted, free of charge, to any person obtaining a copy\n",
        "# of this software and associated documentation files (the \"Software\"), to deal\n",
        "# in the Software without restriction, including without limitation the rights\n",
        "# to use, copy, modify, merge, publish, distribute, sublicense, and/or sell\n",
        "# copies of the Software, and to permit persons to whom the Software is\n",
        "# furnished to do so, subject to the following conditions:\n",
        "\n",
        "# The above copyright notice and this permission notice shall be included in\n",
        "# all copies or substantial portions of the Software.\n",
        "\n",
        "# THE SOFTWARE IS PROVIDED \"AS IS\", WITHOUT WARRANTY OF ANY KIND, EXPRESS OR\n",
        "# IMPLIED, INCLUDING BUT NOT LIMITED TO THE WARRANTIES OF MERCHANTABILITY,\n",
        "# FITNESS FOR A PARTICULAR PURPOSE AND NONINFRINGEMENT. IN NO EVENT SHALL THE\n",
        "# AUTHORS OR COPYRIGHT HOLDERS BE LIABLE FOR ANY CLAIM, DAMAGES OR OTHER\n",
        "# LIABILITY, WHETHER IN AN ACTION OF CONTRACT, TORT OR OTHERWISE, ARISING FROM,\n",
        "# OUT OF OR IN CONNECTION WITH THE SOFTWARE OR THE USE OR OTHER DEALINGS IN\n",
        "# THE SOFTWARE."
      ],
      "execution_count": null,
      "outputs": []
    },
    {
      "cell_type": "code",
      "metadata": {
        "id": "-tkQ7jYitAj9",
        "cellView": "form"
      },
      "source": [
        "#@markdown Execute this cell to view the status of the runtime's GPU, otherwise this is not needed.\n",
        "!nvidia-smi"
      ],
      "execution_count": null,
      "outputs": []
    },
    {
      "cell_type": "markdown",
      "metadata": {
        "id": "KcOVUfhYrAx1"
      },
      "source": [
        "#Mount Drive (optional)\n"
      ]
    },
    {
      "cell_type": "markdown",
      "metadata": {
        "id": "Bjd2VUsMsA-s"
      },
      "source": [
        "This notebook supports mounting your google drive as a folder and storing outputs to it in order to keep them when the runtime disconnects. \n",
        "\n",
        "If you are running this notebook or a copy of this notebook, this step will require you authorize mounting your drive every time you start up the notebook. I recommend making a new notebook, going to \"Runtime->Change Runtime Type\" in the menu bar and selecting \"GPU\" and \"High-RAM\", and then copying each cell of this notebook in. This way you can mount your drive without manual intervention."
      ]
    },
    {
      "cell_type": "code",
      "metadata": {
        "id": "eIJCd6yiIju0",
        "cellView": "form"
      },
      "source": [
        "#@markdown To use your drive, set `root_path` to the relative drive folder path you want outputs to be saved to, then execute the cell. Leaving the field blank or just not running this will have outputs save to the runtime temp storage.\n",
        "root_path = \"\" #@param {type: \"string\"}\n",
        "abs_root_path = \"/content\"\n",
        "if len(root_path) > 0:\n",
        "    abs_root_path = abs_root_path + \"/drive/MyDrive/\" + root_path\n",
        "\n",
        "from google.colab import drive\n",
        "drive.mount('/content/drive')"
      ],
      "execution_count": null,
      "outputs": []
    },
    {
      "cell_type": "markdown",
      "metadata": {
        "id": "XDAkXHdgtLAH"
      },
      "source": [
        "#Select and Download Models"
      ]
    },
    {
      "cell_type": "code",
      "metadata": {
        "id": "v31w25hjtRcz",
        "cellView": "form"
      },
      "source": [
        "#@markdown By default, the notebook downloads the ImageNet 16384 model. There are others like ImageNet 1024, COCO-Stuff, WikiArt 1024, WikiArt 16384, FacesHQ or S-FLCKR, which are not downloaded by default because it would be a waste of time and space if you don't plan to use them, so if you DO plan to use them, just check those models for download. When your selection is complete, execute this cell.\n",
        "\n",
        "#@markdown NOTE: Large models like COCO-Stuff can take a long time to download, so if you're losing a lot of time that way and you've mounted your personal Drive above then you may want to copy the .ckpt and .yaml files to somewhere in your drive. If you do this you can easily add your local model to the dropdown (e.g. if your ckpt is at \"`drive/MyDrive/colab/coco.ckpt`\" the dropdown entry should be \"`drive/MyDrive/colab/coco`\") and then uncheck the download. If all models you wish to use are local it is fine to uncheck all of these.\n",
        "\n",
        "imagenet_1024 = False #@param {type:\"boolean\"}\n",
        "imagenet_16384 = True #@param {type:\"boolean\"}\n",
        "coco = False #@param {type:\"boolean\"}\n",
        "faceshq = True #@param {type:\"boolean\"}\n",
        "wikiart_1024 = False #@param {type:\"boolean\"}\n",
        "wikiart_16384 = True #@param {type:\"boolean\"}\n",
        "sflckr = False #@param {type:\"boolean\"}\n",
        "\n",
        "if imagenet_1024:\n",
        "  !curl -L -o vqgan_imagenet_f16_1024.yaml -C - 'http://mirror.io.community/blob/vqgan/vqgan_imagenet_f16_1024.yaml' #ImageNet 1024\n",
        "  !curl -L -o vqgan_imagenet_f16_1024.ckpt -C - 'http://mirror.io.community/blob/vqgan/vqgan_imagenet_f16_1024.ckpt'  #ImageNet 1024\n",
        "if imagenet_16384:\n",
        "  !curl -L -o vqgan_imagenet_f16_16384.yaml -C - 'http://mirror.io.community/blob/vqgan/vqgan_imagenet_f16_16384.yaml' #ImageNet 16384\n",
        "  !curl -L -o vqgan_imagenet_f16_16384.ckpt -C - 'http://mirror.io.community/blob/vqgan/vqgan_imagenet_f16_16384.ckpt' #ImageNet 16384\n",
        "if coco:\n",
        "  !curl -L -o coco.yaml -C - 'https://dl.nmkd.de/ai/clip/coco/coco.yaml' #COCO\n",
        "  !curl -L -o coco.ckpt -C - 'https://dl.nmkd.de/ai/clip/coco/coco.ckpt' #COCO\n",
        "if faceshq:\n",
        "  !curl -L -o faceshq.yaml -C - 'https://drive.google.com/uc?export=download&id=1fHwGx_hnBtC8nsq7hesJvs-Klv-P0gzT' #FacesHQ\n",
        "  !curl -L -o faceshq.ckpt -C - 'https://app.koofr.net/content/links/a04deec9-0c59-4673-8b37-3d696fe63a5d/files/get/last.ckpt?path=%2F2020-11-13T21-41-45_faceshq_transformer%2Fcheckpoints%2Flast.ckpt' #FacesHQ\n",
        "if wikiart_1024: \n",
        "  !curl -L -o wikiart_1024.yaml -C - 'http://mirror.io.community/blob/vqgan/wikiart.yaml' #WikiArt 1024\n",
        "  !curl -L -o wikiart_1024.ckpt -C - 'http://mirror.io.community/blob/vqgan/wikiart.ckpt' #WikiArt 1024\n",
        "if wikiart_16384: \n",
        "  !curl -L -o wikiart_16384.yaml -C - 'http://mirror.io.community/blob/vqgan/wikiart_16384.yaml' #WikiArt 16384\n",
        "  !curl -L -o wikiart_16384.ckpt -C - 'http://mirror.io.community/blob/vqgan/wikiart_16384.ckpt' #WikiArt 16384\n",
        "if sflckr:\n",
        "  !curl -L -o sflckr.yaml -C - 'https://heibox.uni-heidelberg.de/d/73487ab6e5314cb5adba/files/?p=%2Fconfigs%2F2020-11-09T13-31-51-project.yaml&dl=1' #S-FLCKR\n",
        "  !curl -L -o sflckr.ckpt -C - 'https://heibox.uni-heidelberg.de/d/73487ab6e5314cb5adba/files/?p=%2Fcheckpoints%2Flast.ckpt&dl=1' #S-FLCKR"
      ],
      "execution_count": null,
      "outputs": []
    },
    {
      "cell_type": "markdown",
      "metadata": {
        "id": "_D8G6FOowl7L"
      },
      "source": [
        "#Library Installation"
      ]
    },
    {
      "cell_type": "code",
      "metadata": {
        "id": "PEg7OUZ0tMeh",
        "cellView": "form"
      },
      "source": [
        "# @markdown ###Download Libraries\n",
        "# @markdown This cell may take some time.\n",
        " \n",
        "print(\"Downloading CLIP...\")\n",
        "!git clone https://github.com/openai/CLIP                 &> /dev/null\n",
        " \n",
        "print(\"Installing Python AI libraries...\")\n",
        "!git clone https://github.com/CompVis/taming-transformers &> /dev/null\n",
        "!pip install ftfy regex tqdm omegaconf pytorch-lightning  &> /dev/null\n",
        "!pip install kornia                                       &> /dev/null\n",
        "!pip install einops                                       &> /dev/null\n",
        "!pip install transformers                                 &> /dev/null\n",
        " \n",
        "print(\"Installing libraries for metadata handling...\")\n",
        "!pip install stegano                                      &> /dev/null\n",
        "!apt install exempi                                       &> /dev/null\n",
        "!pip install python-xmp-toolkit                           &> /dev/null\n",
        "!pip install imgtag                                       &> /dev/null\n",
        "!pip install pillow==7.1.2                                &> /dev/null\n",
        " \n",
        "print(\"Installing Python video creation libraries...\")\n",
        "!pip install imageio-ffmpeg &> /dev/null\n",
        "!mkdir steps\n",
        "print(\"Installation finished.\")"
      ],
      "execution_count": null,
      "outputs": []
    },
    {
      "cell_type": "code",
      "metadata": {
        "id": "aj95WPFXtWRb",
        "cellView": "form"
      },
      "source": [
        "# @title Load Libraries and Definitions\n",
        "\n",
        "import argparse\n",
        "import math\n",
        "from pathlib import Path\n",
        "import sys\n",
        "import hashlib\n",
        "from IPython.display import Audio, clear_output\n",
        " \n",
        "sys.path.append('./taming-transformers')\n",
        "from IPython import display\n",
        "from base64 import b64encode\n",
        "from omegaconf import OmegaConf\n",
        "from PIL import Image\n",
        "from taming.models import cond_transformer, vqgan\n",
        "import torch\n",
        "from torch import nn, optim\n",
        "from torch.nn import functional as F\n",
        "from torchvision import transforms\n",
        "from torchvision.transforms import functional as TF\n",
        "from tqdm.notebook import tqdm\n",
        " \n",
        "from CLIP import clip\n",
        "import kornia.augmentation as K\n",
        "import numpy as np\n",
        "import imageio\n",
        "from PIL import ImageFile, Image\n",
        "from imgtag import ImgTag    # metadatos \n",
        "from libxmp import *         # metadatos\n",
        "import libxmp                # metadatos\n",
        "from stegano import lsb\n",
        "import json\n",
        "import re\n",
        "ImageFile.LOAD_TRUNCATED_IMAGES = True\n",
        " \n",
        "def sinc(x):\n",
        "    return torch.where(x != 0, torch.sin(math.pi * x) / (math.pi * x), x.new_ones([]))\n",
        " \n",
        " \n",
        "def lanczos(x, a):\n",
        "    cond = torch.logical_and(-a < x, x < a)\n",
        "    out = torch.where(cond, sinc(x) * sinc(x/a), x.new_zeros([]))\n",
        "    return out / out.sum()\n",
        " \n",
        " \n",
        "def ramp(ratio, width):\n",
        "    n = math.ceil(width / ratio + 1)\n",
        "    out = torch.empty([n])\n",
        "    cur = 0\n",
        "    for i in range(out.shape[0]):\n",
        "        out[i] = cur\n",
        "        cur += ratio\n",
        "    return torch.cat([-out[1:].flip([0]), out])[1:-1]\n",
        " \n",
        " \n",
        "def resample(input, size, align_corners=True):\n",
        "    n, c, h, w = input.shape\n",
        "    dh, dw = size\n",
        " \n",
        "    input = input.view([n * c, 1, h, w])\n",
        " \n",
        "    if dh < h:\n",
        "        kernel_h = lanczos(ramp(dh / h, 2), 2).to(input.device, input.dtype)\n",
        "        pad_h = (kernel_h.shape[0] - 1) // 2\n",
        "        input = F.pad(input, (0, 0, pad_h, pad_h), 'reflect')\n",
        "        input = F.conv2d(input, kernel_h[None, None, :, None])\n",
        " \n",
        "    if dw < w:\n",
        "        kernel_w = lanczos(ramp(dw / w, 2), 2).to(input.device, input.dtype)\n",
        "        pad_w = (kernel_w.shape[0] - 1) // 2\n",
        "        input = F.pad(input, (pad_w, pad_w, 0, 0), 'reflect')\n",
        "        input = F.conv2d(input, kernel_w[None, None, None, :])\n",
        " \n",
        "    input = input.view([n, c, h, w])\n",
        "    return F.interpolate(input, size, mode='bicubic', align_corners=align_corners)\n",
        " \n",
        " \n",
        "class ReplaceGrad(torch.autograd.Function):\n",
        "    @staticmethod\n",
        "    def forward(ctx, x_forward, x_backward):\n",
        "        ctx.shape = x_backward.shape\n",
        "        return x_forward\n",
        " \n",
        "    @staticmethod\n",
        "    def backward(ctx, grad_in):\n",
        "        return None, grad_in.sum_to_size(ctx.shape)\n",
        " \n",
        " \n",
        "replace_grad = ReplaceGrad.apply\n",
        " \n",
        " \n",
        "class ClampWithGrad(torch.autograd.Function):\n",
        "    @staticmethod\n",
        "    def forward(ctx, input, min, max):\n",
        "        ctx.min = min\n",
        "        ctx.max = max\n",
        "        ctx.save_for_backward(input)\n",
        "        return input.clamp(min, max)\n",
        " \n",
        "    @staticmethod\n",
        "    def backward(ctx, grad_in):\n",
        "        input, = ctx.saved_tensors\n",
        "        return grad_in * (grad_in * (input - input.clamp(ctx.min, ctx.max)) >= 0), None, None\n",
        " \n",
        " \n",
        "clamp_with_grad = ClampWithGrad.apply\n",
        " \n",
        " \n",
        "def vector_quantize(x, codebook):\n",
        "    d = x.pow(2).sum(dim=-1, keepdim=True) + codebook.pow(2).sum(dim=1) - 2 * x @ codebook.T\n",
        "    indices = d.argmin(-1)\n",
        "    x_q = F.one_hot(indices, codebook.shape[0]).to(d.dtype) @ codebook\n",
        "    return replace_grad(x_q, x)\n",
        " \n",
        " \n",
        "class Prompt(nn.Module):\n",
        "    def __init__(self, embed, weight=1., stop=float('-inf')):\n",
        "        super().__init__()\n",
        "        self.register_buffer('embed', embed)\n",
        "        self.register_buffer('weight', torch.as_tensor(weight))\n",
        "        self.register_buffer('stop', torch.as_tensor(stop))\n",
        " \n",
        "    def forward(self, input):\n",
        "        input_normed = F.normalize(input.unsqueeze(1), dim=2)\n",
        "        embed_normed = F.normalize(self.embed.unsqueeze(0), dim=2)\n",
        "        dists = input_normed.sub(embed_normed).norm(dim=2).div(2).arcsin().pow(2).mul(2)\n",
        "        dists = dists * self.weight.sign()\n",
        "        return self.weight.abs() * replace_grad(dists, torch.maximum(dists, self.stop)).mean()\n",
        " \n",
        " \n",
        "def parse_prompt(prompt):\n",
        "    vals = prompt.rsplit(':', 2)\n",
        "    vals = vals + ['', '1', '-inf'][len(vals):]\n",
        "    return vals[0], float(vals[1]), float(vals[2])\n",
        " \n",
        " \n",
        "class MakeCutouts(nn.Module):\n",
        "    def __init__(self, cut_size, cutn, cut_pow=1.):\n",
        "        super().__init__()\n",
        "        self.cut_size = cut_size\n",
        "        self.cutn = cutn\n",
        "        self.cut_pow = cut_pow\n",
        "        self.augs = nn.Sequential(\n",
        "            K.RandomHorizontalFlip(p=0.5),\n",
        "            # K.RandomSolarize(0.01, 0.01, p=0.7),\n",
        "            K.RandomSharpness(0.3,p=0.4),\n",
        "            K.RandomAffine(degrees=30, translate=0.1, p=0.8, padding_mode='border'),\n",
        "            K.RandomPerspective(0.2,p=0.4),\n",
        "            K.ColorJitter(hue=0.01, saturation=0.01, p=0.7))\n",
        "        self.noise_fac = 0.1\n",
        " \n",
        " \n",
        "    def forward(self, input):\n",
        "        sideY, sideX = input.shape[2:4]\n",
        "        max_size = min(sideX, sideY)\n",
        "        min_size = min(sideX, sideY, self.cut_size)\n",
        "        cutouts = []\n",
        "        for _ in range(self.cutn):\n",
        "            size = int(torch.rand([])**self.cut_pow * (max_size - min_size) + min_size)\n",
        "            offsetx = torch.randint(0, sideX - size + 1, ())\n",
        "            offsety = torch.randint(0, sideY - size + 1, ())\n",
        "            cutout = input[:, :, offsety:offsety + size, offsetx:offsetx + size]\n",
        "            cutouts.append(resample(cutout, (self.cut_size, self.cut_size)))\n",
        "        batch = self.augs(torch.cat(cutouts, dim=0))\n",
        "        if self.noise_fac:\n",
        "            facs = batch.new_empty([self.cutn, 1, 1, 1]).uniform_(0, self.noise_fac)\n",
        "            batch = batch + facs * torch.randn_like(batch)\n",
        "        return batch\n",
        " \n",
        " \n",
        "def load_vqgan_model(config_path, checkpoint_path):\n",
        "    config = OmegaConf.load(config_path)\n",
        "    if config.model.target == 'taming.models.vqgan.VQModel':\n",
        "        model = vqgan.VQModel(**config.model.params)\n",
        "        model.eval().requires_grad_(False)\n",
        "        model.init_from_ckpt(checkpoint_path)\n",
        "    elif config.model.target == 'taming.models.cond_transformer.Net2NetTransformer':\n",
        "        parent_model = cond_transformer.Net2NetTransformer(**config.model.params)\n",
        "        parent_model.eval().requires_grad_(False)\n",
        "        parent_model.init_from_ckpt(checkpoint_path)\n",
        "        model = parent_model.first_stage_model\n",
        "    else:\n",
        "        raise ValueError(f'unknown model type: {config.model.target}')\n",
        "    del model.loss\n",
        "    return model\n",
        " \n",
        " \n",
        "def resize_image(image, out_size):\n",
        "    ratio = image.size[0] / image.size[1]\n",
        "    area = min(image.size[0] * image.size[1], out_size[0] * out_size[1])\n",
        "    size = round((area * ratio)**0.5), round((area / ratio)**0.5)\n",
        "    return image.resize(size, Image.LANCZOS)"
      ],
      "execution_count": null,
      "outputs": []
    },
    {
      "cell_type": "markdown",
      "metadata": {
        "id": "S-Cuux-GIKKV"
      },
      "source": [
        "#How-To"
      ]
    },
    {
      "cell_type": "markdown",
      "metadata": {
        "id": "HoB8mj3foQrG"
      },
      "source": [
        "##Execution Instructions:"
      ]
    },
    {
      "cell_type": "markdown",
      "metadata": {
        "id": "GpnkcwFdpj7I"
      },
      "source": [
        "The first thing you'll want to change is `prompts:` - here you can put the prompt or prompts you want to generate (separated by `|` ). It's a list because you can use more than one prompt, and the AI will try to 'mix' the images, giving the same weight to each one.\n",
        "\n",
        "To use a starting image with the model, all you have to do is drop the image file into Colab's file structure (in the left side bar, click the folder if it is hidden), and then change `init_image:` to the exact relative path of the file from the top level shown, e.g. `sample.png` for a file dropped in the top level or `path/to/file/sample.png` if you've placed it in a folder.\n",
        "\n",
        "You can also change which model to use by changing the line that says `model`. Currently the available models are 1024, 16384, WikiArt, S-FLCKR and COCO-Stuff. To activate them you first must download them above, then just select them from the dropdown. \n",
        "\n",
        "You can also use `target_images`, which basically loads one or more images that the AI takes as \"meta\", serving the same function as a text prompt. To use more than one you must use `|` as a separator."
      ]
    },
    {
      "cell_type": "markdown",
      "metadata": {
        "id": "mCoOo1j3pGeu"
      },
      "source": [
        "##Execution Modes"
      ]
    },
    {
      "cell_type": "markdown",
      "metadata": {
        "id": "0rj0jcVYpW_G"
      },
      "source": [
        "Classic Single Run\n",
        "> If you leave `run_batch` unchecked and `seed_type` set to \"`seed_single`\", the program will generate one image using the provided parameters, disregarding `seed_list` and `batch_seed_count`\n",
        "\n",
        "Random Seed Batch\n",
        "> If you check `run_batch` and leave `seed_type` set to \"`seed_single`\", the program will generate `batch_seed_count` many images with the provided parameters except random seeds for each one\n",
        "\n",
        "Specific Seed Batch\n",
        "> If you set `seed_type` to \"`seed_list`\", then the program will execute one 'classic' execution using each seed in the comma-separated list you enter into `seed_list`, REGARDLESS of whether `run_batch` is checked"
      ]
    },
    {
      "cell_type": "markdown",
      "metadata": {
        "id": "kaj4CNofqhV-"
      },
      "source": [
        "##Additive Execution"
      ]
    },
    {
      "cell_type": "markdown",
      "metadata": {
        "id": "JFCKNCG2qksm"
      },
      "source": [
        "If you set `init_image` to the absolute path of an image already generated by this program (which can be obtained by finding the output in the file broswer on the left side bar, right-clicking, and selecting \"Copy Path\"), the file name will be parsed to determine if it has the same prompt, seed, and step size as the current run. If it does, then the output will be saved with an iteration count reflecting both the new iterations and those that went into the source image (e.g., run a 500 iteration execution with the output of a 1000 iteration execution as the starting point and it will automatically be saved as the 1500 iteration version of that series)."
      ]
    },
    {
      "cell_type": "markdown",
      "metadata": {
        "id": "5NAlyDvQmXpd"
      },
      "source": [
        "#Parameters"
      ]
    },
    {
      "cell_type": "code",
      "metadata": {
        "id": "5tBCRO0FtkdI",
        "cellView": "form"
      },
      "source": [
        "prompts = \"Tarot Card The Emperor Surrealism \\\"\" #@param {type:\"string\"}\n",
        "width =  480#@param {type:\"number\"}\n",
        "height =  480#@param {type:\"number\"}\n",
        "model_id = \"vqgan_imagenet_f16_16384\" #@param [\"vqgan_imagenet_f16_16384\", \"vqgan_imagenet_f16_1024\", \"wikiart_1024\", \"wikiart_16384\", \"coco\", \"drive/MyDrive/colab/coco\", \"faceshq\", \"sflckr\"]\n",
        "image_interval =  50#@param {type:\"number\"}\n",
        "init_image = \"None\"#@param {type:\"string\"}\n",
        "target_images = None#@param {type:\"string\"}\n",
        "#@markdown\n",
        "seed_single = \"4\"#@param {type:\"string\"}\n",
        "seed_list = \"1,2,3\" #@param {type:\"string\"}\n",
        "seed_type = seed_single #@param [\"seed_single\", \"seed_list\"] {type:\"raw\"}\n",
        "#@markdown\n",
        "max_iterations = 500#@param {type:\"number\"}\n",
        "run_batch = False#@param {type:\"boolean\"}\n",
        "batch_seed_count = 3#@param {type:\"number\"}\n",
        "input_images = \"\"\n",
        "step_size = 0.1 #@param {type:\"slider\", min:0, max:1, step:0.05}\n",
        "\n",
        "model_names={\"vqgan_imagenet_f16_16384\": 'ImageNet 16384',\"vqgan_imagenet_f16_1024\":\"ImageNet 1024\", \n",
        "                 \"wikiart_1024\":\"WikiArt 1024\", \"wikiart_16384\":\"WikiArt 16384\", \"coco\":\"COCO-Stuff\", \n",
        "                 \"drive/MyDrive/colab/coco\":\"COCO-Stuff (Local)\",\"faceshq\":\"FacesHQ\", \"sflckr\":\"S-FLCKR\"}\n",
        "model_name = model_names[model_id]     \n",
        "\n",
        "if not 'abs_root_path' in globals():\n",
        "    abs_root_path = \"/content\"\n",
        "\n",
        "if init_image == \"None\":\n",
        "    init_image = None\n",
        "if target_images == \"None\" or not target_images:\n",
        "    target_images = []\n",
        "else:\n",
        "    target_images = target_images.split(\"|\")\n",
        "    target_images = [image.strip() for image in target_images]\n",
        "\n",
        "if init_image or target_images != []:\n",
        "    input_images = True\n",
        "\n",
        "prompts_str = prompts\n",
        "prompt_hash = hashlib.md5(prompts.encode())\n",
        "prompt_md5 = prompt_hash.hexdigest()\n",
        "\n",
        "prompts = [frase.strip() for frase in prompts.split(\"|\")]\n",
        "if prompts == ['']:\n",
        "    prompts = []\n",
        "\n",
        "if seed_type == seed_single:\n",
        "    seed = None if seed_single == -1 else seed_single  \n",
        "else:\n",
        "    seed_list = ''.join(seed_list)\n",
        "    seed = seed_list.replace(\" \", \"\").split(',')\n",
        "\n",
        "args = argparse.Namespace(\n",
        "    prompts=prompts,\n",
        "    image_prompts=target_images,\n",
        "    noise_prompt_seeds=[],\n",
        "    noise_prompt_weights=[],\n",
        "    size=[width, height],\n",
        "    init_image=init_image,\n",
        "    init_weight=0.,\n",
        "    clip_model='ViT-B/32',\n",
        "    vqgan_config=f'{model_id}.yaml',\n",
        "    vqgan_checkpoint=f'{model_id}.ckpt',\n",
        "    step_size=step_size,\n",
        "    cutn=64,\n",
        "    cut_pow=1.,\n",
        "    display_freq=image_interval,\n",
        "    seed=seed,\n",
        "    batch_seed_count=(batch_seed_count if run_batch else 1),\n",
        "    hash = prompt_md5,\n",
        "    prompt_str = prompts_str,\n",
        ")\n",
        "\n",
        "print(\"Prompt Hash: \", args.hash)\n",
        "\n",
        "!mkdir {abs_root_path}/{args.hash}\n",
        "!rm -f {abs_root_path}/{args.hash}/prompt.txt\n",
        "!echo \"{prompts_str}\" > {abs_root_path}/{args.hash}/prompt.txt"
      ],
      "execution_count": null,
      "outputs": []
    },
    {
      "cell_type": "markdown",
      "metadata": {
        "id": "Uawbx4ZFnIFI"
      },
      "source": [
        "#Load Model"
      ]
    },
    {
      "cell_type": "code",
      "metadata": {
        "id": "p95Ox8Ustub9",
        "cellView": "form"
      },
      "source": [
        "#@markdown This cell must be run after parameters are configured, but does NOT need to be run again when parameters are changed\n",
        "\n",
        "#@markdown Once this has been run successfully you only need to run parameters and then the program to execute with new parameters\n",
        "device = torch.device('cuda:0' if torch.cuda.is_available() else 'cpu')\n",
        "model = load_vqgan_model(args.vqgan_config, args.vqgan_checkpoint).to(device)\n",
        "perceptor = clip.load(args.clip_model, jit=False)[0].eval().requires_grad_(False).to(device)\n",
        "\n",
        "cut_size = perceptor.visual.input_resolution\n",
        "e_dim = model.quantize.e_dim\n",
        "f = 2**(model.decoder.num_resolutions - 1)\n",
        "make_cutouts = MakeCutouts(cut_size, args.cutn, cut_pow=args.cut_pow)\n",
        "n_toks = model.quantize.n_e\n",
        "toksX, toksY = args.size[0] // f, args.size[1] // f\n",
        "sideX, sideY = toksX * f, toksY * f\n",
        "z_min = model.quantize.embedding.weight.min(dim=0).values[None, :, None, None]\n",
        "z_max = model.quantize.embedding.weight.max(dim=0).values[None, :, None, None]\n",
        "\n",
        "normalize = transforms.Normalize(mean=[0.48145466, 0.4578275, 0.40821073],\n",
        "                                std=[0.26862954, 0.26130258, 0.27577711])"
      ],
      "execution_count": null,
      "outputs": []
    },
    {
      "cell_type": "markdown",
      "metadata": {
        "id": "N_3z0gyinBKq"
      },
      "source": [
        "#Execute the Program"
      ]
    },
    {
      "cell_type": "code",
      "metadata": {
        "id": "8c0CBKmnt3Yz",
        "cellView": "form"
      },
      "source": [
        "#@title Execute\n",
        "\n",
        "def synth(z):\n",
        "    z_q = vector_quantize(z.movedim(1, 3), model.quantize.embedding.weight).movedim(3, 1)\n",
        "    return clamp_with_grad(model.decode(z_q).add(1).div(2), 0, 1)\n",
        "\n",
        "def add_xmp_data(nombrefichero):\n",
        "    imagen = ImgTag(filename=nombrefichero)\n",
        "    imagen.xmp.append_array_item(libxmp.consts.XMP_NS_DC, 'creator', 'VQGAN+CLIP', {\"prop_array_is_ordered\":True, \"prop_value_is_array\":True})\n",
        "    if args.prompts:\n",
        "        imagen.xmp.append_array_item(libxmp.consts.XMP_NS_DC, 'title', \" | \".join(args.prompts), {\"prop_array_is_ordered\":True, \"prop_value_is_array\":True})\n",
        "    else:\n",
        "        imagen.xmp.append_array_item(libxmp.consts.XMP_NS_DC, 'title', 'None', {\"prop_array_is_ordered\":True, \"prop_value_is_array\":True})\n",
        "    imagen.xmp.append_array_item(libxmp.consts.XMP_NS_DC, 'i', str(i), {\"prop_array_is_ordered\":True, \"prop_value_is_array\":True})\n",
        "    imagen.xmp.append_array_item(libxmp.consts.XMP_NS_DC, 'model', model_name, {\"prop_array_is_ordered\":True, \"prop_value_is_array\":True})\n",
        "    imagen.xmp.append_array_item(libxmp.consts.XMP_NS_DC, 'seed',str(seed) , {\"prop_array_is_ordered\":True, \"prop_value_is_array\":True})\n",
        "    imagen.xmp.append_array_item(libxmp.consts.XMP_NS_DC, 'input_images',str(input_images) , {\"prop_array_is_ordered\":True, \"prop_value_is_array\":True})\n",
        "    #for frases in args.prompts:\n",
        "    #    imagen.xmp.append_array_item(libxmp.consts.XMP_NS_DC, 'Prompt' ,frases, {\"prop_array_is_ordered\":True, \"prop_value_is_array\":True})\n",
        "    imagen.close()\n",
        "\n",
        "def add_stegano_data(filename):\n",
        "    data = {\n",
        "        \"title\": \" | \".join(args.prompts) if args.prompts else None,\n",
        "        \"notebook\": \"VQGAN+CLIP\",\n",
        "        \"i\": i,\n",
        "        \"model\": model_name,\n",
        "        \"seed\": str(seed),\n",
        "        \"input_images\": input_images\n",
        "    }\n",
        "    lsb.hide(filename, json.dumps(data)).save(filename)\n",
        "\n",
        "@torch.no_grad()\n",
        "def checkin(i, losses):\n",
        "    losses_str = ', '.join(f'{loss.item():g}' for loss in losses)\n",
        "    tqdm.write(f'i: {i}, loss: {sum(losses).item():g}, losses: {losses_str}')\n",
        "    out = synth(z)\n",
        "    TF.to_pil_image(out[0].cpu()).save('progress.png')\n",
        "    #no one is looking at this info just save some cycles\n",
        "    #add_stegano_data('progress.png')\n",
        "    #add_xmp_data('progress.png')\n",
        "    display.display(display.Image('progress.png'))\n",
        "\n",
        "def ascend_txt():\n",
        "    global i\n",
        "    global z\n",
        "\n",
        "    out = synth(z)\n",
        "    iii = perceptor.encode_image(normalize(make_cutouts(out))).float()\n",
        "\n",
        "    result = []\n",
        "\n",
        "    if args.init_weight:\n",
        "        result.append(F.mse_loss(z, z_orig) * args.init_weight / 2)\n",
        "\n",
        "    for prompt in pMs:\n",
        "        result.append(prompt(iii))\n",
        "    img = np.array(out.mul(255).clamp(0, 255)[0].cpu().detach().numpy().astype(np.uint8))[:,:,:]\n",
        "    img = np.transpose(img, (1, 2, 0))\n",
        "    filename = f\"steps/{i:04}.png\"\n",
        "    imageio.imwrite(filename, np.array(img))\n",
        "    add_stegano_data(filename)\n",
        "    add_xmp_data(filename)\n",
        "    return result\n",
        "\n",
        "def train(i):\n",
        "    global opt\n",
        "    global z\n",
        "\n",
        "    opt.zero_grad()\n",
        "    lossAll = ascend_txt()\n",
        "    if i % args.display_freq == 0:\n",
        "        checkin(i, lossAll)\n",
        "    loss = sum(lossAll)\n",
        "    loss.backward()\n",
        "    opt.step()\n",
        "    with torch.no_grad():\n",
        "        z.copy_(z.maximum(z_min).minimum(z_max))\n",
        "\n",
        "def make_final_name(s):\n",
        "    stepstr = \"_s{s}\".format(s=str(int(args.step_size*100)).zfill(3))\n",
        "    noiterstr = \"{path}/{hash}/{seed}{step}_\".format(path=abs_root_path, hash=args.hash, seed=str(s), step=stepstr)\n",
        "    expr = noiterstr + \"(?P<iter>\\\\d{4})[.]png\"\n",
        "    print(expr)\n",
        "    newiter = max_iterations\n",
        "    if(args.init_image is not None):\n",
        "        if(re.fullmatch(expr, args.init_image) is not None):\n",
        "            m = re.match(expr, args.init_image)\n",
        "            iter = m.group(\"iter\")\n",
        "            inum = int(iter)\n",
        "            newiter = inum+newiter\n",
        "    return noiterstr+str(str(newiter).zfill(4))+\".png\"\n",
        "\n",
        "def save_final(s):\n",
        "    out = synth(z)\n",
        "    img = np.array(out.mul(255).clamp(0, 255)[0].cpu().detach().numpy().astype(np.uint8))[:,:,:]\n",
        "    img = np.transpose(img, (1, 2, 0))\n",
        "    filename = make_final_name(s)\n",
        "    imageio.imwrite(filename, np.array(img))\n",
        "    add_stegano_data(filename)\n",
        "    add_xmp_data(filename)\n",
        "\n",
        "def run_seed():\n",
        "    torch.cuda.empty_cache()\n",
        "    global opt\n",
        "    global z\n",
        "    global i\n",
        "\n",
        "    if args.init_image:\n",
        "        pil_image = Image.open(args.init_image).convert('RGB')\n",
        "        pil_image = pil_image.resize((sideX, sideY), Image.LANCZOS)\n",
        "        z, *_ = model.encode(TF.to_tensor(pil_image).to(device).unsqueeze(0) * 2 - 1)\n",
        "    else:\n",
        "        one_hot = F.one_hot(torch.randint(n_toks, [toksY * toksX], device=device), n_toks).float()\n",
        "        z = one_hot @ model.quantize.embedding.weight\n",
        "        z = z.view([-1, toksY, toksX, e_dim]).permute(0, 3, 1, 2)\n",
        "    z_orig = z.clone()\n",
        "    z.requires_grad_(True)\n",
        "    opt = optim.Adam([z], lr=args.step_size)\n",
        "    i = 0\n",
        "    with tqdm() as pbar:\n",
        "        while True:\n",
        "            train(i)\n",
        "            if i == max_iterations:\n",
        "                break\n",
        "            i += 1\n",
        "            pbar.update()\n",
        "\n",
        "print('Using device:', device)\n",
        "if prompts:\n",
        "    print('Using texts:', prompts)\n",
        "\n",
        "if target_images:\n",
        "    print('Using image prompts:', target_images)\n",
        "\n",
        "if args.batch_seed_count is None:\n",
        "    batch_seed_count = 10\n",
        "else:\n",
        "    batch_seed_count = args.batch_seed_count\n",
        "\n",
        "pMs = []\n",
        "\n",
        "for prompt in args.prompts:\n",
        "    txt, weight, stop = parse_prompt(prompt)\n",
        "    embed = perceptor.encode_text(clip.tokenize(txt).to(device)).float()\n",
        "    pMs.append(Prompt(embed, weight, stop).to(device))\n",
        "\n",
        "for prompt in args.image_prompts:\n",
        "    path, weight, stop = parse_prompt(prompt)\n",
        "    img = resize_image(Image.open(path).convert('RGB'), (sideX, sideY))\n",
        "    batch = make_cutouts(TF.to_tensor(img).unsqueeze(0).to(device))\n",
        "    embed = perceptor.encode_image(normalize(batch)).float()\n",
        "    pMs.append(Prompt(embed, weight, stop).to(device))\n",
        "\n",
        "for seed, weight in zip(args.noise_prompt_seeds, args.noise_prompt_weights):\n",
        "    gen = torch.Generator().manual_seed(seed)\n",
        "    embed = torch.empty([1, perceptor.visual.output_dim]).normal_(generator=gen)\n",
        "    pMs.append(Prompt(embed, weight).to(device))\n",
        "\n",
        "try:\n",
        "    if type(seed) is list:\n",
        "        for s in seed:\n",
        "            clear_output(wait=True)\n",
        "            torch.manual_seed(s)\n",
        "            print('Using seed:', s)\n",
        "            run_seed()\n",
        "            save_final(s)\n",
        "    else:\n",
        "        while batch_seed_count > 0: #unchecking run_batch just forces the count to be 1\n",
        "            clear_output(wait=True)\n",
        "            if run_batch or (args.seed is None) or (int(args.seed) < 0):\n",
        "                s = torch.seed()\n",
        "            else:\n",
        "                s = args.seed\n",
        "            torch.manual_seed(s)\n",
        "            print('Using seed:', s)\n",
        "            run_seed()\n",
        "            save_final(s)\n",
        "            batch_seed_count -= 1\n",
        "\n",
        "except KeyboardInterrupt:\n",
        "    del z\n",
        "    del z_max\n",
        "    del z_min\n",
        "    del opt\n",
        "    pass\n"
      ],
      "execution_count": null,
      "outputs": []
    },
    {
      "cell_type": "markdown",
      "metadata": {
        "id": "bgb6whkzt-1u"
      },
      "source": [
        "# Generate a Video from the Results\n",
        "\n",
        "**NOTE: CODE BELOW THIS LINE IS NOT UPDATED FOR BATCH FUNCTIONALITY. Running it will only generate a video of the last image!**\n",
        "\n",
        "If you want to create a video from the frames, just click below. You can change the frames per second (FPS), the first and last frame, etc."
      ]
    },
    {
      "cell_type": "code",
      "metadata": {
        "id": "-HrYWPH8uYjA"
      },
      "source": [
        "#@title Generate\n",
        "#@markdown `interval` specifies how frequently a frame should be added to the video - 1 is all frames, 2 every other frame, etc.\n",
        "first_frame = 1 #@param {type: Number} #Este es el frame donde el vídeo empezará\n",
        "last_frame = 500 #@param {type: Number} #Puedes cambiar i a el número del último frame que quieres generar. It will raise an error if that number of frames does not exist.\n",
        "\n",
        "fps = 50 #@param {type: Number} #\n",
        "interval = 1 #@param {type: Number} #\n",
        "\n",
        "total_frames = last_frame-first_frame\n",
        "\n",
        "frames = []\n",
        "tqdm.write('Generando video...')\n",
        "\n",
        "#ensure first frame is always appended\n",
        "if(first_frame % interval is not 0):\n",
        "    filename = f\"steps/{first_frame:04}.png\"\n",
        "    frames.append(Image.open(filename))\n",
        "\n",
        "for i in range(first_frame,min(last_frame,max_iterations)+1): #\n",
        "    if(i % interval is not 0):\n",
        "       continue\n",
        "    filename = f\"steps/{i:04}.png\"\n",
        "    frames.append(Image.open(filename))\n",
        "\n",
        "#ensure last frame is always appended\n",
        "if(last_frame % interval is not 0):\n",
        "    filename = f\"steps/{last_frame:04}.png\"\n",
        "    frames.append(Image.open(filename))\n",
        "\n",
        "from subprocess import Popen, PIPE\n",
        "p = Popen(['ffmpeg', '-y', '-f', 'image2pipe', '-vcodec', 'png', '-r', str(fps), '-i', '-', '-vcodec', 'libx264', '-r', str(fps), '-pix_fmt', 'yuv420p', '-crf', '17', '-preset', 'veryslow', 'video.mp4'], stdin=PIPE)\n",
        "for im in tqdm(frames):\n",
        "    im.save(p.stdin, 'PNG')\n",
        "p.stdin.close()\n",
        "\n",
        "print(\"The video is being compiled, please wait...\")\n",
        "p.wait()\n",
        "print(\"The video is ready.\")"
      ],
      "execution_count": null,
      "outputs": []
    },
    {
      "cell_type": "code",
      "metadata": {
        "id": "TDwgQoy4uh_d",
        "cellView": "form"
      },
      "source": [
        "# @title Download Video\n",
        "from google.colab import files\n",
        "files.download(\"video.mp4\")"
      ],
      "execution_count": null,
      "outputs": []
    },
    {
      "cell_type": "code",
      "metadata": {
        "id": "ic2a_DSXucRY",
        "cellView": "form"
      },
      "source": [
        "# @title View the Video in Browser\n",
        "# @markdown This process can be a bit slow. If you don't want to wait, download it by executing the next cell instead of this one.\n",
        "mp4 = open('video.mp4','rb').read()\n",
        "data_url = \"data:video/mp4;base64,\" + b64encode(mp4).decode()\n",
        "display.HTML(\"\"\"\n",
        "<video width=400 controls>\n",
        "      <source src=\"%s\" type=\"video/mp4\">\n",
        "</video>\n",
        "\"\"\" % data_url)"
      ],
      "execution_count": null,
      "outputs": []
    }
  ]
}